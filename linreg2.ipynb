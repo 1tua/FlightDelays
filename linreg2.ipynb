{
 "cells": [
  {
   "cell_type": "code",
   "execution_count": 37,
   "metadata": {},
   "outputs": [
    {
     "name": "stdout",
     "output_type": "stream",
     "text": [
      "The autoreload extension is already loaded. To reload it, use:\n",
      "  %reload_ext autoreload\n"
     ]
    }
   ],
   "source": [
    "%load_ext autoreload\n",
    "%autoreload 2\n",
    "import pandas as pd\n",
    "import numpy as np\n",
    "import matplotlib.pyplot as plt\n",
    "import warnings\n",
    "warnings.filterwarnings('ignore')\n",
    "\n",
    "\n",
    "from sklearn.model_selection import cross_val_score\n",
    "from sklearn.model_selection import KFold\n",
    "from sklearn import preprocessing\n",
    "from sklearn.preprocessing import PolynomialFeatures\n",
    "from sklearn.linear_model import LinearRegression\n",
    "from sklearn.metrics import r2_score\n",
    "from sklearn.metrics import mean_squared_error, mean_squared_log_error\n",
    "import matplotlib.pyplot as plt\n",
    "%matplotlib inline\n",
    "df = pd.read_csv('final_flight_data')"
   ]
  },
  {
   "cell_type": "code",
   "execution_count": 2,
   "metadata": {},
   "outputs": [
    {
     "data": {
      "text/html": [
       "<div>\n",
       "<style scoped>\n",
       "    .dataframe tbody tr th:only-of-type {\n",
       "        vertical-align: middle;\n",
       "    }\n",
       "\n",
       "    .dataframe tbody tr th {\n",
       "        vertical-align: top;\n",
       "    }\n",
       "\n",
       "    .dataframe thead th {\n",
       "        text-align: right;\n",
       "    }\n",
       "</style>\n",
       "<table border=\"1\" class=\"dataframe\">\n",
       "  <thead>\n",
       "    <tr style=\"text-align: right;\">\n",
       "      <th></th>\n",
       "      <th>Month</th>\n",
       "      <th>DayofMonth</th>\n",
       "      <th>Hour</th>\n",
       "      <th>Origin</th>\n",
       "      <th>Dest</th>\n",
       "      <th>SchedDep</th>\n",
       "      <th>DepTime</th>\n",
       "      <th>DepDelay</th>\n",
       "      <th>ArrTime</th>\n",
       "      <th>ArrDelay</th>\n",
       "      <th>AirTime</th>\n",
       "      <th>FlightNumber</th>\n",
       "      <th>Temp</th>\n",
       "      <th>Humidity</th>\n",
       "      <th>Wind</th>\n",
       "      <th>Pressure</th>\n",
       "      <th>Description</th>\n",
       "      <th>Delay_min</th>\n",
       "    </tr>\n",
       "  </thead>\n",
       "  <tbody>\n",
       "    <tr>\n",
       "      <td>0</td>\n",
       "      <td>1</td>\n",
       "      <td>1</td>\n",
       "      <td>22</td>\n",
       "      <td>DFW</td>\n",
       "      <td>MIA</td>\n",
       "      <td>1900-01-01 21:20:00</td>\n",
       "      <td>1900-01-01 22:04:00</td>\n",
       "      <td>84.0</td>\n",
       "      <td>139.0</td>\n",
       "      <td>73.0</td>\n",
       "      <td>136.0</td>\n",
       "      <td>AA2329</td>\n",
       "      <td>65.01</td>\n",
       "      <td>77.0</td>\n",
       "      <td>2.0</td>\n",
       "      <td>1009.0</td>\n",
       "      <td>broken clouds</td>\n",
       "      <td>44.0</td>\n",
       "    </tr>\n",
       "    <tr>\n",
       "      <td>1</td>\n",
       "      <td>1</td>\n",
       "      <td>1</td>\n",
       "      <td>22</td>\n",
       "      <td>DFW</td>\n",
       "      <td>LAX</td>\n",
       "      <td>1900-01-01 22:10:00</td>\n",
       "      <td>1900-01-01 22:16:00</td>\n",
       "      <td>6.0</td>\n",
       "      <td>2353.0</td>\n",
       "      <td>9.0</td>\n",
       "      <td>184.0</td>\n",
       "      <td>AA1023</td>\n",
       "      <td>65.01</td>\n",
       "      <td>77.0</td>\n",
       "      <td>2.0</td>\n",
       "      <td>1009.0</td>\n",
       "      <td>broken clouds</td>\n",
       "      <td>6.0</td>\n",
       "    </tr>\n",
       "    <tr>\n",
       "      <td>2</td>\n",
       "      <td>1</td>\n",
       "      <td>1</td>\n",
       "      <td>22</td>\n",
       "      <td>DFW</td>\n",
       "      <td>ORD</td>\n",
       "      <td>1900-01-01 21:30:00</td>\n",
       "      <td>1900-01-01 22:20:00</td>\n",
       "      <td>90.0</td>\n",
       "      <td>19.0</td>\n",
       "      <td>74.0</td>\n",
       "      <td>98.0</td>\n",
       "      <td>AA1040</td>\n",
       "      <td>65.01</td>\n",
       "      <td>77.0</td>\n",
       "      <td>2.0</td>\n",
       "      <td>1009.0</td>\n",
       "      <td>broken clouds</td>\n",
       "      <td>50.0</td>\n",
       "    </tr>\n",
       "    <tr>\n",
       "      <td>3</td>\n",
       "      <td>1</td>\n",
       "      <td>1</td>\n",
       "      <td>22</td>\n",
       "      <td>DFW</td>\n",
       "      <td>ORD</td>\n",
       "      <td>1900-01-01 22:15:00</td>\n",
       "      <td>1900-01-01 22:08:00</td>\n",
       "      <td>-7.0</td>\n",
       "      <td>2400.0</td>\n",
       "      <td>-30.0</td>\n",
       "      <td>95.0</td>\n",
       "      <td>AA2525</td>\n",
       "      <td>65.01</td>\n",
       "      <td>77.0</td>\n",
       "      <td>2.0</td>\n",
       "      <td>1009.0</td>\n",
       "      <td>broken clouds</td>\n",
       "      <td>-7.0</td>\n",
       "    </tr>\n",
       "    <tr>\n",
       "      <td>4</td>\n",
       "      <td>1</td>\n",
       "      <td>1</td>\n",
       "      <td>18</td>\n",
       "      <td>LAX</td>\n",
       "      <td>ORD</td>\n",
       "      <td>1900-01-01 17:50:00</td>\n",
       "      <td>1900-01-01 18:37:00</td>\n",
       "      <td>87.0</td>\n",
       "      <td>21.0</td>\n",
       "      <td>58.0</td>\n",
       "      <td>200.0</td>\n",
       "      <td>AA2576</td>\n",
       "      <td>47.59</td>\n",
       "      <td>81.0</td>\n",
       "      <td>3.0</td>\n",
       "      <td>1014.0</td>\n",
       "      <td>fog</td>\n",
       "      <td>47.0</td>\n",
       "    </tr>\n",
       "  </tbody>\n",
       "</table>\n",
       "</div>"
      ],
      "text/plain": [
       "   Month  DayofMonth  Hour Origin Dest             SchedDep  \\\n",
       "0      1           1    22    DFW  MIA  1900-01-01 21:20:00   \n",
       "1      1           1    22    DFW  LAX  1900-01-01 22:10:00   \n",
       "2      1           1    22    DFW  ORD  1900-01-01 21:30:00   \n",
       "3      1           1    22    DFW  ORD  1900-01-01 22:15:00   \n",
       "4      1           1    18    LAX  ORD  1900-01-01 17:50:00   \n",
       "\n",
       "               DepTime  DepDelay  ArrTime  ArrDelay  AirTime FlightNumber  \\\n",
       "0  1900-01-01 22:04:00      84.0    139.0      73.0    136.0       AA2329   \n",
       "1  1900-01-01 22:16:00       6.0   2353.0       9.0    184.0       AA1023   \n",
       "2  1900-01-01 22:20:00      90.0     19.0      74.0     98.0       AA1040   \n",
       "3  1900-01-01 22:08:00      -7.0   2400.0     -30.0     95.0       AA2525   \n",
       "4  1900-01-01 18:37:00      87.0     21.0      58.0    200.0       AA2576   \n",
       "\n",
       "    Temp  Humidity  Wind  Pressure    Description  Delay_min  \n",
       "0  65.01      77.0   2.0    1009.0  broken clouds       44.0  \n",
       "1  65.01      77.0   2.0    1009.0  broken clouds        6.0  \n",
       "2  65.01      77.0   2.0    1009.0  broken clouds       50.0  \n",
       "3  65.01      77.0   2.0    1009.0  broken clouds       -7.0  \n",
       "4  47.59      81.0   3.0    1014.0            fog       47.0  "
      ]
     },
     "execution_count": 2,
     "metadata": {},
     "output_type": "execute_result"
    }
   ],
   "source": [
    "df.head()"
   ]
  },
  {
   "cell_type": "code",
   "execution_count": 3,
   "metadata": {},
   "outputs": [
    {
     "data": {
      "text/plain": [
       "5"
      ]
     },
     "execution_count": 3,
     "metadata": {},
     "output_type": "execute_result"
    }
   ],
   "source": [
    "df['Origin'].nunique()"
   ]
  },
  {
   "cell_type": "code",
   "execution_count": 4,
   "metadata": {},
   "outputs": [
    {
     "data": {
      "text/plain": [
       "Index(['Month', 'DayofMonth', 'Hour', 'Origin', 'Dest', 'SchedDep', 'DepTime',\n",
       "       'DepDelay', 'ArrTime', 'ArrDelay', 'AirTime', 'FlightNumber', 'Temp',\n",
       "       'Humidity', 'Wind', 'Pressure', 'Description', 'Delay_min'],\n",
       "      dtype='object')"
      ]
     },
     "execution_count": 4,
     "metadata": {},
     "output_type": "execute_result"
    }
   ],
   "source": [
    "df.columns"
   ]
  },
  {
   "cell_type": "code",
   "execution_count": 5,
   "metadata": {},
   "outputs": [],
   "source": [
    "df_reg = df[['Temp','Humidity','Wind','Pressure','Month','Delay_min','Origin','Dest', 'ArrDelay']]"
   ]
  },
  {
   "cell_type": "code",
   "execution_count": 6,
   "metadata": {},
   "outputs": [
    {
     "name": "stdout",
     "output_type": "stream",
     "text": [
      "<class 'pandas.core.frame.DataFrame'>\n",
      "RangeIndex: 66180 entries, 0 to 66179\n",
      "Data columns (total 18 columns):\n",
      "Month           66180 non-null int64\n",
      "DayofMonth      66180 non-null int64\n",
      "Hour            66180 non-null int64\n",
      "Origin          66180 non-null object\n",
      "Dest            66180 non-null object\n",
      "SchedDep        66180 non-null object\n",
      "DepTime         66180 non-null object\n",
      "DepDelay        66180 non-null float64\n",
      "ArrTime         66180 non-null float64\n",
      "ArrDelay        66180 non-null float64\n",
      "AirTime         66180 non-null float64\n",
      "FlightNumber    66180 non-null object\n",
      "Temp            66180 non-null float64\n",
      "Humidity        66180 non-null float64\n",
      "Wind            66180 non-null float64\n",
      "Pressure        66180 non-null float64\n",
      "Description     66180 non-null object\n",
      "Delay_min       66180 non-null float64\n",
      "dtypes: float64(9), int64(3), object(6)\n",
      "memory usage: 9.1+ MB\n"
     ]
    }
   ],
   "source": [
    "df.info()"
   ]
  },
  {
   "cell_type": "code",
   "execution_count": 7,
   "metadata": {},
   "outputs": [
    {
     "data": {
      "text/html": [
       "<div>\n",
       "<style scoped>\n",
       "    .dataframe tbody tr th:only-of-type {\n",
       "        vertical-align: middle;\n",
       "    }\n",
       "\n",
       "    .dataframe tbody tr th {\n",
       "        vertical-align: top;\n",
       "    }\n",
       "\n",
       "    .dataframe thead th {\n",
       "        text-align: right;\n",
       "    }\n",
       "</style>\n",
       "<table border=\"1\" class=\"dataframe\">\n",
       "  <thead>\n",
       "    <tr style=\"text-align: right;\">\n",
       "      <th></th>\n",
       "      <th>Month</th>\n",
       "      <th>DayofMonth</th>\n",
       "      <th>Hour</th>\n",
       "      <th>DepDelay</th>\n",
       "      <th>ArrTime</th>\n",
       "      <th>ArrDelay</th>\n",
       "      <th>AirTime</th>\n",
       "      <th>Temp</th>\n",
       "      <th>Humidity</th>\n",
       "      <th>Wind</th>\n",
       "      <th>Pressure</th>\n",
       "      <th>Delay_min</th>\n",
       "    </tr>\n",
       "  </thead>\n",
       "  <tbody>\n",
       "    <tr>\n",
       "      <td>Month</td>\n",
       "      <td>1.000000</td>\n",
       "      <td>-0.015237</td>\n",
       "      <td>0.013013</td>\n",
       "      <td>-0.023012</td>\n",
       "      <td>-0.006746</td>\n",
       "      <td>-0.021540</td>\n",
       "      <td>-0.011686</td>\n",
       "      <td>0.541680</td>\n",
       "      <td>-0.065682</td>\n",
       "      <td>-0.156282</td>\n",
       "      <td>-0.031801</td>\n",
       "      <td>-0.028550</td>\n",
       "    </tr>\n",
       "    <tr>\n",
       "      <td>DayofMonth</td>\n",
       "      <td>-0.015237</td>\n",
       "      <td>1.000000</td>\n",
       "      <td>-0.000209</td>\n",
       "      <td>-0.019401</td>\n",
       "      <td>-0.001348</td>\n",
       "      <td>-0.022907</td>\n",
       "      <td>-0.003865</td>\n",
       "      <td>0.057572</td>\n",
       "      <td>-0.008947</td>\n",
       "      <td>0.003257</td>\n",
       "      <td>-0.100276</td>\n",
       "      <td>-0.021099</td>\n",
       "    </tr>\n",
       "    <tr>\n",
       "      <td>Hour</td>\n",
       "      <td>0.013013</td>\n",
       "      <td>-0.000209</td>\n",
       "      <td>1.000000</td>\n",
       "      <td>0.125619</td>\n",
       "      <td>0.193614</td>\n",
       "      <td>0.105412</td>\n",
       "      <td>0.035982</td>\n",
       "      <td>0.210621</td>\n",
       "      <td>-0.353273</td>\n",
       "      <td>0.239275</td>\n",
       "      <td>0.024344</td>\n",
       "      <td>0.126451</td>\n",
       "    </tr>\n",
       "    <tr>\n",
       "      <td>DepDelay</td>\n",
       "      <td>-0.023012</td>\n",
       "      <td>-0.019401</td>\n",
       "      <td>0.125619</td>\n",
       "      <td>1.000000</td>\n",
       "      <td>-0.020411</td>\n",
       "      <td>0.921155</td>\n",
       "      <td>0.021688</td>\n",
       "      <td>0.025830</td>\n",
       "      <td>-0.014603</td>\n",
       "      <td>0.041354</td>\n",
       "      <td>-0.019178</td>\n",
       "      <td>0.982366</td>\n",
       "    </tr>\n",
       "    <tr>\n",
       "      <td>ArrTime</td>\n",
       "      <td>-0.006746</td>\n",
       "      <td>-0.001348</td>\n",
       "      <td>0.193614</td>\n",
       "      <td>-0.020411</td>\n",
       "      <td>1.000000</td>\n",
       "      <td>-0.017324</td>\n",
       "      <td>-0.038889</td>\n",
       "      <td>-0.038885</td>\n",
       "      <td>0.013304</td>\n",
       "      <td>-0.007182</td>\n",
       "      <td>0.044226</td>\n",
       "      <td>-0.015902</td>\n",
       "    </tr>\n",
       "    <tr>\n",
       "      <td>ArrDelay</td>\n",
       "      <td>-0.021540</td>\n",
       "      <td>-0.022907</td>\n",
       "      <td>0.105412</td>\n",
       "      <td>0.921155</td>\n",
       "      <td>-0.017324</td>\n",
       "      <td>1.000000</td>\n",
       "      <td>0.035785</td>\n",
       "      <td>0.032528</td>\n",
       "      <td>-0.008624</td>\n",
       "      <td>0.054609</td>\n",
       "      <td>-0.033638</td>\n",
       "      <td>0.904374</td>\n",
       "    </tr>\n",
       "    <tr>\n",
       "      <td>AirTime</td>\n",
       "      <td>-0.011686</td>\n",
       "      <td>-0.003865</td>\n",
       "      <td>0.035982</td>\n",
       "      <td>0.021688</td>\n",
       "      <td>-0.038889</td>\n",
       "      <td>0.035785</td>\n",
       "      <td>1.000000</td>\n",
       "      <td>-0.077090</td>\n",
       "      <td>-0.000613</td>\n",
       "      <td>-0.174676</td>\n",
       "      <td>-0.037591</td>\n",
       "      <td>0.030301</td>\n",
       "    </tr>\n",
       "    <tr>\n",
       "      <td>Temp</td>\n",
       "      <td>0.541680</td>\n",
       "      <td>0.057572</td>\n",
       "      <td>0.210621</td>\n",
       "      <td>0.025830</td>\n",
       "      <td>-0.038885</td>\n",
       "      <td>0.032528</td>\n",
       "      <td>-0.077090</td>\n",
       "      <td>1.000000</td>\n",
       "      <td>-0.235722</td>\n",
       "      <td>0.027813</td>\n",
       "      <td>-0.102388</td>\n",
       "      <td>0.022648</td>\n",
       "    </tr>\n",
       "    <tr>\n",
       "      <td>Humidity</td>\n",
       "      <td>-0.065682</td>\n",
       "      <td>-0.008947</td>\n",
       "      <td>-0.353273</td>\n",
       "      <td>-0.014603</td>\n",
       "      <td>0.013304</td>\n",
       "      <td>-0.008624</td>\n",
       "      <td>-0.000613</td>\n",
       "      <td>-0.235722</td>\n",
       "      <td>1.000000</td>\n",
       "      <td>-0.244963</td>\n",
       "      <td>-0.149366</td>\n",
       "      <td>-0.013771</td>\n",
       "    </tr>\n",
       "    <tr>\n",
       "      <td>Wind</td>\n",
       "      <td>-0.156282</td>\n",
       "      <td>0.003257</td>\n",
       "      <td>0.239275</td>\n",
       "      <td>0.041354</td>\n",
       "      <td>-0.007182</td>\n",
       "      <td>0.054609</td>\n",
       "      <td>-0.174676</td>\n",
       "      <td>0.027813</td>\n",
       "      <td>-0.244963</td>\n",
       "      <td>1.000000</td>\n",
       "      <td>0.007175</td>\n",
       "      <td>0.041775</td>\n",
       "    </tr>\n",
       "    <tr>\n",
       "      <td>Pressure</td>\n",
       "      <td>-0.031801</td>\n",
       "      <td>-0.100276</td>\n",
       "      <td>0.024344</td>\n",
       "      <td>-0.019178</td>\n",
       "      <td>0.044226</td>\n",
       "      <td>-0.033638</td>\n",
       "      <td>-0.037591</td>\n",
       "      <td>-0.102388</td>\n",
       "      <td>-0.149366</td>\n",
       "      <td>0.007175</td>\n",
       "      <td>1.000000</td>\n",
       "      <td>-0.018257</td>\n",
       "    </tr>\n",
       "    <tr>\n",
       "      <td>Delay_min</td>\n",
       "      <td>-0.028550</td>\n",
       "      <td>-0.021099</td>\n",
       "      <td>0.126451</td>\n",
       "      <td>0.982366</td>\n",
       "      <td>-0.015902</td>\n",
       "      <td>0.904374</td>\n",
       "      <td>0.030301</td>\n",
       "      <td>0.022648</td>\n",
       "      <td>-0.013771</td>\n",
       "      <td>0.041775</td>\n",
       "      <td>-0.018257</td>\n",
       "      <td>1.000000</td>\n",
       "    </tr>\n",
       "  </tbody>\n",
       "</table>\n",
       "</div>"
      ],
      "text/plain": [
       "               Month  DayofMonth      Hour  DepDelay   ArrTime  ArrDelay  \\\n",
       "Month       1.000000   -0.015237  0.013013 -0.023012 -0.006746 -0.021540   \n",
       "DayofMonth -0.015237    1.000000 -0.000209 -0.019401 -0.001348 -0.022907   \n",
       "Hour        0.013013   -0.000209  1.000000  0.125619  0.193614  0.105412   \n",
       "DepDelay   -0.023012   -0.019401  0.125619  1.000000 -0.020411  0.921155   \n",
       "ArrTime    -0.006746   -0.001348  0.193614 -0.020411  1.000000 -0.017324   \n",
       "ArrDelay   -0.021540   -0.022907  0.105412  0.921155 -0.017324  1.000000   \n",
       "AirTime    -0.011686   -0.003865  0.035982  0.021688 -0.038889  0.035785   \n",
       "Temp        0.541680    0.057572  0.210621  0.025830 -0.038885  0.032528   \n",
       "Humidity   -0.065682   -0.008947 -0.353273 -0.014603  0.013304 -0.008624   \n",
       "Wind       -0.156282    0.003257  0.239275  0.041354 -0.007182  0.054609   \n",
       "Pressure   -0.031801   -0.100276  0.024344 -0.019178  0.044226 -0.033638   \n",
       "Delay_min  -0.028550   -0.021099  0.126451  0.982366 -0.015902  0.904374   \n",
       "\n",
       "             AirTime      Temp  Humidity      Wind  Pressure  Delay_min  \n",
       "Month      -0.011686  0.541680 -0.065682 -0.156282 -0.031801  -0.028550  \n",
       "DayofMonth -0.003865  0.057572 -0.008947  0.003257 -0.100276  -0.021099  \n",
       "Hour        0.035982  0.210621 -0.353273  0.239275  0.024344   0.126451  \n",
       "DepDelay    0.021688  0.025830 -0.014603  0.041354 -0.019178   0.982366  \n",
       "ArrTime    -0.038889 -0.038885  0.013304 -0.007182  0.044226  -0.015902  \n",
       "ArrDelay    0.035785  0.032528 -0.008624  0.054609 -0.033638   0.904374  \n",
       "AirTime     1.000000 -0.077090 -0.000613 -0.174676 -0.037591   0.030301  \n",
       "Temp       -0.077090  1.000000 -0.235722  0.027813 -0.102388   0.022648  \n",
       "Humidity   -0.000613 -0.235722  1.000000 -0.244963 -0.149366  -0.013771  \n",
       "Wind       -0.174676  0.027813 -0.244963  1.000000  0.007175   0.041775  \n",
       "Pressure   -0.037591 -0.102388 -0.149366  0.007175  1.000000  -0.018257  \n",
       "Delay_min   0.030301  0.022648 -0.013771  0.041775 -0.018257   1.000000  "
      ]
     },
     "execution_count": 7,
     "metadata": {},
     "output_type": "execute_result"
    }
   ],
   "source": [
    "df.corr()"
   ]
  },
  {
   "cell_type": "markdown",
   "metadata": {},
   "source": [
    "For the continuous features of the dataset to predict the target variable delay minutes"
   ]
  },
  {
   "cell_type": "code",
   "execution_count": 8,
   "metadata": {},
   "outputs": [],
   "source": [
    "# Create X and y then split in train and test\n",
    "\n",
    "import pandas as pd\n",
    "import numpy as np\n",
    "from sklearn.model_selection import train_test_split\n",
    "y = df_reg['ArrDelay']\n",
    "X = df_reg[['Temp', 'Humidity', 'Wind', 'Pressure','Delay_min']]"
   ]
  },
  {
   "cell_type": "code",
   "execution_count": 34,
   "metadata": {},
   "outputs": [],
   "source": [
    "X_train, X_test, y_train, y_test = train_test_split(X, y, test_size=0.25, random_state=100)\n"
   ]
  },
  {
   "cell_type": "markdown",
   "metadata": {},
   "source": [
    "Performing our first linear regression modelling"
   ]
  },
  {
   "cell_type": "code",
   "execution_count": 39,
   "metadata": {},
   "outputs": [
    {
     "name": "stdout",
     "output_type": "stream",
     "text": [
      "Training r^2: 0.8231983200757722\n",
      "Testing r^2: 0.804161213898475\n",
      "Training MSE: 365.12831478845317\n",
      "Testing MSE: 383.04083687580703\n"
     ]
    }
   ],
   "source": [
    "from sklearn.metrics import mean_squared_error, mean_squared_log_error\n",
    "from sklearn.linear_model import LinearRegression\n",
    "from sklearn.preprocessing import Imputer\n",
    "\n",
    "\n",
    "# Fit the model and print R2 and MSE for train and test\n",
    "linreg = LinearRegression()\n",
    "linreg.fit(X_train, y_train)\n",
    "\n",
    "print('Training r^2:', linreg.score(X_train, y_train))\n",
    "print('Testing r^2:', linreg.score(X_test, y_test))\n",
    "print('Training MSE:', mean_squared_error(y_train, linreg.predict(X_train)))\n",
    "print('Testing MSE:', mean_squared_error(y_test, linreg.predict(X_test)))"
   ]
  },
  {
   "cell_type": "code",
   "execution_count": 11,
   "metadata": {},
   "outputs": [],
   "source": [
    "from sklearn.preprocessing import StandardScaler\n",
    "\n",
    "# Scale the train and test data\n",
    "ss = StandardScaler()\n",
    "ss.fit(X_train)\n",
    "\n",
    "X_train_scaled = ss.transform(X_train)\n",
    "X_test_scaled = ss.transform(X_test)"
   ]
  },
  {
   "cell_type": "code",
   "execution_count": 12,
   "metadata": {},
   "outputs": [
    {
     "name": "stdout",
     "output_type": "stream",
     "text": [
      "Scaled Training r^2: 0.8231983200757722\n",
      "Scaled Testing r^2: 0.804161213898475\n",
      "Scaled Training MSE: 365.1283147884533\n",
      "Scaled Testing MSE: 383.04083687580703\n"
     ]
    }
   ],
   "source": [
    "linreg_norm = LinearRegression()\n",
    "linreg_norm.fit(X_train_scaled, y_train)\n",
    "\n",
    "print('Scaled Training r^2:', linreg_norm.score(X_train_scaled, y_train))\n",
    "print('Scaled Testing r^2:', linreg_norm.score(X_test_scaled, y_test))\n",
    "print('Scaled Training MSE:', mean_squared_error(y_train, linreg_norm.predict(X_train_scaled)))\n",
    "print('Scaled Testing MSE:', mean_squared_error(y_test, linreg_norm.predict(X_test_scaled)))"
   ]
  },
  {
   "cell_type": "code",
   "execution_count": 13,
   "metadata": {},
   "outputs": [],
   "source": [
    "X_cat = df_reg[['Month', 'Origin', 'Dest']]\n"
   ]
  },
  {
   "cell_type": "code",
   "execution_count": 14,
   "metadata": {},
   "outputs": [],
   "source": [
    "X_train_cat, X_test_cat, y_train, y_test = train_test_split(X_cat, y,test_size=0.25, random_state=100)"
   ]
  },
  {
   "cell_type": "code",
   "execution_count": 15,
   "metadata": {},
   "outputs": [],
   "source": [
    "from sklearn.preprocessing import OneHotEncoder\n",
    "\n",
    "# OneHotEncode Categorical variables\n",
    "ohe = OneHotEncoder(handle_unknown='ignore')\n",
    "ohe.fit(X_train_cat)\n",
    "\n",
    "X_train_ohe = ohe.transform(X_train_cat)\n",
    "X_test_ohe = ohe.transform(X_test_cat)\n",
    "\n",
    "columns = ohe.get_feature_names(input_features=X_train_cat.columns)\n",
    "cat_train_df = pd.DataFrame(X_train_ohe.todense(), columns=columns)\n",
    "cat_test_df = pd.DataFrame(X_test_ohe.todense(), columns=columns)"
   ]
  },
  {
   "cell_type": "code",
   "execution_count": 16,
   "metadata": {},
   "outputs": [],
   "source": [
    "X_train_all = pd.concat([pd.DataFrame(X_train_scaled), cat_train_df], axis = 1)\n",
    "X_test_all = pd.concat([pd.DataFrame(X_test_scaled), cat_test_df], axis = 1)"
   ]
  },
  {
   "cell_type": "code",
   "execution_count": 17,
   "metadata": {},
   "outputs": [
    {
     "name": "stdout",
     "output_type": "stream",
     "text": [
      "Continuous and Categorical\n",
      "Training r^2: 0.8248431672803317\n",
      "Testing r^2: 0.8058559330704745\n",
      "Training MSE: 361.7313997357077\n",
      "Testing MSE: 379.72613776622575\n"
     ]
    }
   ],
   "source": [
    "linreg_all = LinearRegression()\n",
    "linreg_all.fit(X_train_all, y_train)\n",
    "\n",
    "print('Continuous and Categorical')\n",
    "print('Training r^2:', linreg_all.score(X_train_all, y_train))\n",
    "print('Testing r^2:', linreg_all.score(X_test_all, y_test))\n",
    "print('Training MSE:', mean_squared_error(y_train, linreg_all.predict(X_train_all)))\n",
    "print('Testing MSE:', mean_squared_error(y_test, linreg_all.predict(X_test_all)))"
   ]
  },
  {
   "cell_type": "code",
   "execution_count": 18,
   "metadata": {},
   "outputs": [
    {
     "name": "stdout",
     "output_type": "stream",
     "text": [
      "Lasso\n",
      "Training r^2: 0.8219976164783861\n",
      "Testing r^2: 0.8028705906449709\n",
      "Training MSE: 367.60799078057005\n",
      "Testing MSE: 385.56516528365006\n"
     ]
    }
   ],
   "source": [
    "from sklearn.linear_model import Lasso\n",
    "\n",
    "lasso = Lasso() #Lasso is also known as the L1 norm.\n",
    "lasso.fit(X_train_all, y_train)\n",
    "print( 'Lasso')\n",
    "print('Training r^2:', lasso.score(X_train_all, y_train))\n",
    "print('Testing r^2:', lasso.score(X_test_all, y_test))\n",
    "print('Training MSE:', mean_squared_error(y_train, lasso.predict(X_train_all)))\n",
    "print('Testing MSE:', mean_squared_error(y_test, lasso.predict(X_test_all)))"
   ]
  },
  {
   "cell_type": "code",
   "execution_count": 19,
   "metadata": {},
   "outputs": [
    {
     "name": "stdout",
     "output_type": "stream",
     "text": [
      "Lasso a=10\n",
      "Training r^2: 0.774060040553496\n",
      "Testing r^2: 0.7562418221902506\n",
      "Training MSE: 466.6079907805704\n",
      "Testing MSE: 476.76631520359007\n"
     ]
    }
   ],
   "source": [
    "lasso = Lasso(10) #Lasso is also known as the L1 norm.\n",
    "lasso.fit(X_train_all, y_train)\n",
    "print('Lasso a=10')\n",
    "print('Training r^2:', lasso.score(X_train_all, y_train))\n",
    "print('Testing r^2:', lasso.score(X_test_all, y_test))\n",
    "print('Training MSE:', mean_squared_error(y_train, lasso.predict(X_train_all)))\n",
    "print('Testing MSE:', mean_squared_error(y_test, lasso.predict(X_test_all)))"
   ]
  },
  {
   "cell_type": "code",
   "execution_count": 20,
   "metadata": {},
   "outputs": [
    {
     "name": "stdout",
     "output_type": "stream",
     "text": [
      "Ridge\n",
      "Training r^2: 0.8248431669039311\n",
      "Testing r^2: 0.8058559717110396\n",
      "Training MSE: 361.7314005130449\n",
      "Testing MSE: 379.72606218919293\n"
     ]
    }
   ],
   "source": [
    "from sklearn.linear_model import Ridge\n",
    "\n",
    "ridge = Ridge() #Ridge is also known as the L2 norm.\n",
    "ridge.fit(X_train_all, y_train)\n",
    "print('Ridge')\n",
    "print('Training r^2:', ridge.score(X_train_all, y_train))\n",
    "print('Testing r^2:', ridge.score(X_test_all, y_test))\n",
    "print('Training MSE:', mean_squared_error(y_train, ridge.predict(X_train_all)))\n",
    "print('Testing MSE:', mean_squared_error(y_test, ridge.predict(X_test_all)))"
   ]
  },
  {
   "cell_type": "code",
   "execution_count": 21,
   "metadata": {},
   "outputs": [
    {
     "name": "stdout",
     "output_type": "stream",
     "text": [
      "Ridge\n",
      "Training r^2: 0.8248431296677473\n",
      "Testing r^2: 0.8058562853224569\n",
      "Training MSE: 361.731477412682\n",
      "Testing MSE: 379.72544879701377\n"
     ]
    }
   ],
   "source": [
    "from sklearn.linear_model import Ridge\n",
    "\n",
    "ridge = Ridge(alpha = 10) #Lasso is also known as the L1 norm.\n",
    "ridge.fit(X_train_all, y_train)\n",
    "print('Ridge')\n",
    "print('Training r^2:', ridge.score(X_train_all, y_train))\n",
    "print('Testing r^2:', ridge.score(X_test_all, y_test))\n",
    "print('Training MSE:', mean_squared_error(y_train, ridge.predict(X_train_all)))\n",
    "print('Testing MSE:', mean_squared_error(y_test, ridge.predict(X_test_all)))"
   ]
  },
  {
   "cell_type": "code",
   "execution_count": 22,
   "metadata": {},
   "outputs": [],
   "source": [
    "from sklearn.preprocessing import PolynomialFeatures\n",
    "from sklearn.linear_model import LinearRegression\n",
    "from sklearn.metrics import r2_score"
   ]
  },
  {
   "cell_type": "code",
   "execution_count": 23,
   "metadata": {},
   "outputs": [
    {
     "name": "stdout",
     "output_type": "stream",
     "text": [
      "degree 2 0.8078956644436939\n",
      "degree 3 0.8108793365978026\n",
      "degree 4 0.8098774587554716\n"
     ]
    }
   ],
   "source": [
    "for index, degree in enumerate([2, 3, 4,]):\n",
    "    \n",
    "    # Instantiate PolynomialFeatures\n",
    "    poly = PolynomialFeatures(degree)\n",
    "    \n",
    "    # Fit and transform X_train\n",
    "    X_poly_train = poly.fit_transform(X_train)\n",
    "    \n",
    "    # Instantiate and fit a linear regression model to the polynomial transformed train features\n",
    "    reg_poly = LinearRegression().fit(X_poly_train, y_train)\n",
    "    \n",
    "\n",
    "#     X_train_scaled = ss.transform(X_train)\n",
    "#     X_test_scaled = ss.transform(X_test)\n",
    "    \n",
    "    # Transform the test data into polynomial features\n",
    "    X_poly_test = poly.transform(X_test)\n",
    "    \n",
    "    ss.fit(X_train)\n",
    "\n",
    "    # Get predicted values for transformed polynomial test data  \n",
    "    y_pred = reg_poly.predict(X_poly_test)\n",
    "    \n",
    "    # Evaluate model performance on test data\n",
    "    print(\"degree %d\" % degree, r2_score(y_test, y_pred))\n",
    "    \n",
    " \n",
    "    \n",
    "\n"
   ]
  },
  {
   "cell_type": "code",
   "execution_count": 24,
   "metadata": {},
   "outputs": [
    {
     "name": "stdout",
     "output_type": "stream",
     "text": [
      "Training r^2: 0.8332264955701296\n",
      "Testing r^2: 0.8098774587554716\n",
      "Training MSE: 344.4182693848871\n",
      "Testing MSE: 371.86044070711387\n"
     ]
    }
   ],
   "source": [
    "    print('Training r^2:', reg_poly.score(X_poly_train, y_train))\n",
    "    print('Testing r^2:',  reg_poly.score(X_poly_test, y_test))\n",
    "    print('Training MSE:', mean_squared_error(y_train, reg_poly.predict(X_poly_train)))\n",
    "    print('Testing MSE:', mean_squared_error(y_test, reg_poly.predict(X_poly_test)))"
   ]
  },
  {
   "cell_type": "code",
   "execution_count": 25,
   "metadata": {},
   "outputs": [
    {
     "data": {
      "text/plain": [
       "const        1.674501e-13\n",
       "Temp         1.459941e-12\n",
       "Humidity     3.349147e-07\n",
       "Wind         2.734163e-28\n",
       "Pressure     4.527938e-18\n",
       "Delay_min    0.000000e+00\n",
       "dtype: float64"
      ]
     },
     "execution_count": 25,
     "metadata": {},
     "output_type": "execute_result"
    }
   ],
   "source": [
    "import statsmodels.api as sm\n",
    "\n",
    "X_1 = sm.add_constant(X)\n",
    "#Fitting sm.OLS model\n",
    "model = sm.OLS(y,X_1).fit()\n",
    "model.pvalues"
   ]
  },
  {
   "cell_type": "code",
   "execution_count": 26,
   "metadata": {},
   "outputs": [
    {
     "name": "stdout",
     "output_type": "stream",
     "text": [
      "['Temp', 'Humidity', 'Wind', 'Pressure', 'Delay_min']\n"
     ]
    }
   ],
   "source": [
    "#Backward Elimination\n",
    "cols = list(X.columns)\n",
    "pmax = 1\n",
    "while (len(cols)>0):\n",
    "    p= []\n",
    "    X_1 = X[cols]\n",
    "    X_1 = sm.add_constant(X_1)\n",
    "    model = sm.OLS(y,X_1).fit()\n",
    "    p = pd.Series(model.pvalues.values[1:],index = cols)      \n",
    "    pmax = max(p)\n",
    "    feature_with_p_max = p.idxmax()\n",
    "    if(pmax>0.05):\n",
    "        cols.remove(feature_with_p_max)\n",
    "    else:\n",
    "        break\n",
    "selected_features_BE = cols\n",
    "print(selected_features_BE)"
   ]
  },
  {
   "cell_type": "code",
   "execution_count": 27,
   "metadata": {},
   "outputs": [
    {
     "name": "stdout",
     "output_type": "stream",
     "text": [
      "[ True  True  True  True  True]\n",
      "[1 1 1 1 1]\n",
      "Optimum number of features: 5\n",
      "Score with 5 features: 0.804161\n"
     ]
    }
   ],
   "source": [
    "from sklearn.feature_selection import RFE\n",
    "model = LinearRegression()\n",
    "#Initializing RFE model\n",
    "rfe = RFE(model, 7)\n",
    "#Transforming data using RFE\n",
    "X_rfe = rfe.fit_transform(X,y)  \n",
    "#Fitting the data to model\n",
    "model.fit(X_rfe,y)\n",
    "print(rfe.support_)\n",
    "print(rfe.ranking_)\n",
    "\n",
    "#no of features\n",
    "nof_list=np.arange(1,13)            \n",
    "high_score=0\n",
    "#Variable to store the optimum features\n",
    "nof=0           \n",
    "score_list =[]\n",
    "for n in range(len(nof_list)):\n",
    "    X_train, X_test, y_train, y_test = train_test_split(X,y, test_size = 0.25, random_state = 100)\n",
    "    model = LinearRegression()\n",
    "    rfe = RFE(model,nof_list[n])\n",
    "    X_train_rfe = rfe.fit_transform(X_train,y_train)\n",
    "    X_test_rfe = rfe.transform(X_test)\n",
    "    model.fit(X_train_rfe,y_train)\n",
    "    score = model.score(X_test_rfe,y_test)\n",
    "    score_list.append(score)\n",
    "    if(score>high_score):\n",
    "        high_score = score\n",
    "        nof = nof_list[n]\n",
    "print(\"Optimum number of features: %d\" %nof)\n",
    "print(\"Score with %d features: %f\" % (nof, high_score))\n"
   ]
  },
  {
   "cell_type": "code",
   "execution_count": 28,
   "metadata": {},
   "outputs": [
    {
     "name": "stdout",
     "output_type": "stream",
     "text": [
      "Mean r2: 0.8197954074600753\n",
      "Mean r2: 0.8197954074600753\n",
      "10 Fold Score: [0.74284105 0.83405038 0.83256317 0.81403775 0.83767335 0.84898614\n",
      " 0.81541739 0.83837405 0.82137993 0.81263086]\n",
      "10 Fold mean squared error [435.59090534 383.65409378 350.65261708 373.31696311 403.66176261\n",
      " 405.53992648 431.01082107 378.08429521 266.73286138 278.2949196 ]\n"
     ]
    }
   ],
   "source": [
    "# 10-fold cross-validation with all three features\n",
    "# instantiate model\n",
    "lm = LinearRegression()\n",
    "\n",
    "# store scores in scores object\n",
    "# we can't use accuracy as our evaluation metric since that's only relevant for classification problems\n",
    "# RMSE is not directly available so we will use MSE\n",
    "scores = cross_val_score(lm, X_train, y_train, cv=10, scoring='r2')\n",
    "mse_scores = cross_val_score(lm, X, y, cv=10, scoring='neg_mean_squared_error')\n",
    "print('Mean r2:',np.mean(scores))\n",
    "print('Mean r2:',np.mean(scores))\n",
    "print('10 Fold Score:',scores)\n",
    "print ('10 Fold mean squared error',-(mse_scores) )\n",
    "\n"
   ]
  },
  {
   "cell_type": "code",
   "execution_count": 31,
   "metadata": {},
   "outputs": [],
   "source": [
    "from reg import create_Linear_regression_model\n"
   ]
  },
  {
   "cell_type": "code",
   "execution_count": 40,
   "metadata": {},
   "outputs": [
    {
     "name": "stdout",
     "output_type": "stream",
     "text": [
      "Training r^2: 0.8231983200757722\n",
      "Testing r^2: 0.804161213898475\n",
      "Training MSE: 365.12831478845317\n",
      "Testing MSE: 383.04083687580703\n"
     ]
    }
   ],
   "source": [
    "create_Linear_regression_model(X_train, X_test, y_train, y_test)"
   ]
  },
  {
   "cell_type": "code",
   "execution_count": 55,
   "metadata": {},
   "outputs": [],
   "source": [
    "from reg import create_model\n"
   ]
  },
  {
   "cell_type": "code",
   "execution_count": 60,
   "metadata": {},
   "outputs": [
    {
     "name": "stdout",
     "output_type": "stream",
     "text": [
      "Training r^2: 0.8231983200757722\n",
      "Testing r^2: 0.804161213898475\n",
      "Training MSE: 365.12831478845317\n",
      "Testing MSE: 383.04083687580703\n",
      "The model performance for the training set\n",
      "-------------------------------------------\n",
      "RMSE of training set is 18.884889586531404\n",
      "R2 score of training set is 0.8273089720985292\n",
      "\n",
      "\n",
      "The model performance for the test set\n",
      "-------------------------------------------\n",
      "RMSE of test set is 19.3839270975634\n",
      "R2 score of test set is 0.8078956644436939\n"
     ]
    }
   ],
   "source": [
    "create_model(X_train, X_test, y_train, y_test,2)"
   ]
  },
  {
   "cell_type": "code",
   "execution_count": null,
   "metadata": {},
   "outputs": [],
   "source": []
  }
 ],
 "metadata": {
  "kernelspec": {
   "display_name": "Python 3",
   "language": "python",
   "name": "python3"
  },
  "language_info": {
   "codemirror_mode": {
    "name": "ipython",
    "version": 3
   },
   "file_extension": ".py",
   "mimetype": "text/x-python",
   "name": "python",
   "nbconvert_exporter": "python",
   "pygments_lexer": "ipython3",
   "version": "3.7.3"
  }
 },
 "nbformat": 4,
 "nbformat_minor": 4
}
